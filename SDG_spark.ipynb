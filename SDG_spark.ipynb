{
  "nbformat": 4,
  "nbformat_minor": 0,
  "metadata": {
    "colab": {
      "provenance": [],
      "authorship_tag": "ABX9TyMBX0yz6H9tLbQp4VuMM07U",
      "include_colab_link": true
    },
    "kernelspec": {
      "name": "python3",
      "display_name": "Python 3"
    },
    "language_info": {
      "name": "python"
    }
  },
  "cells": [
    {
      "cell_type": "markdown",
      "metadata": {
        "id": "view-in-github",
        "colab_type": "text"
      },
      "source": [
        "<a href=\"https://colab.research.google.com/github/GaboRamalho/Big-Data/blob/main/SDG_spark.ipynb\" target=\"_parent\"><img src=\"https://colab.research.google.com/assets/colab-badge.svg\" alt=\"Open In Colab\"/></a>"
      ]
    },
    {
      "cell_type": "markdown",
      "source": [
        "Installing Java"
      ],
      "metadata": {
        "id": "zjpuM-JnLqnD"
      }
    },
    {
      "cell_type": "code",
      "execution_count": null,
      "metadata": {
        "id": "b4oKGi0ELOJN"
      },
      "outputs": [],
      "source": [
        "!apt-get install openjdk-8-jdk-headless -qq > /dev/null"
      ]
    },
    {
      "cell_type": "markdown",
      "source": [
        "Download and install Apache Spark:"
      ],
      "metadata": {
        "id": "EWmALiE8LunV"
      }
    },
    {
      "cell_type": "code",
      "source": [
        "!wget -q !wget -q https://dlcdn.apache.org/spark/spark-3.4.1/spark-3.4.1-bin-hadoop3.tgz\n",
        "!tar xf spark-3.4.1-bin-hadoop3.tgz\n",
        "!pip install -q findspark"
      ],
      "metadata": {
        "id": "9MSFmlufLi95"
      },
      "execution_count": null,
      "outputs": []
    },
    {
      "cell_type": "markdown",
      "source": [
        "Set environment variables to specify where Spark is installed:"
      ],
      "metadata": {
        "id": "MRMkDSiDMGv8"
      }
    },
    {
      "cell_type": "code",
      "source": [
        "import os\n",
        "os.environ[\"JAVA_HOME\"] = \"/usr/lib/jvm/java-8-openjdk-amd64\"\n",
        "os.environ[\"SPARK_HOME\"] = \"/content/spark-3.4.1-bin-hadoop3\""
      ],
      "metadata": {
        "id": "tGbBdKaEMLAP"
      },
      "execution_count": null,
      "outputs": []
    },
    {
      "cell_type": "markdown",
      "source": [
        "Include Spark using findpark."
      ],
      "metadata": {
        "id": "gQeOiA2eMQzv"
      }
    },
    {
      "cell_type": "code",
      "source": [
        "import findspark\n",
        "findspark.init()"
      ],
      "metadata": {
        "id": "KrQMCF7tMRtH"
      },
      "execution_count": null,
      "outputs": []
    },
    {
      "cell_type": "markdown",
      "source": [
        "Start a local session and import data:"
      ],
      "metadata": {
        "id": "AiUjtc9QMhCL"
      }
    },
    {
      "cell_type": "code",
      "source": [
        "from pyspark.sql import SparkSession\n",
        "sc = SparkSession.builder.master('local[*]').getOrCreate()"
      ],
      "metadata": {
        "id": "EK8RpNRUMh6_"
      },
      "execution_count": null,
      "outputs": []
    },
    {
      "cell_type": "code",
      "source": [
        "#load data from computer\n",
        "data_spark = sc.read.csv('/content/unsdg_2002_2021.csv', header = True)"
      ],
      "metadata": {
        "id": "Kj7nfoonMyxi"
      },
      "execution_count": null,
      "outputs": []
    },
    {
      "cell_type": "code",
      "source": [
        "#verify the type of data in the dataset\n",
        "type(data_spark)"
      ],
      "metadata": {
        "colab": {
          "base_uri": "https://localhost:8080/"
        },
        "id": "Nu0LF3OhN7tM",
        "outputId": "ac942f0e-f284-4d2d-f7a7-bf5367f05f52"
      },
      "execution_count": null,
      "outputs": [
        {
          "output_type": "execute_result",
          "data": {
            "text/plain": [
              "pyspark.sql.dataframe.DataFrame"
            ]
          },
          "metadata": {},
          "execution_count": 7
        }
      ]
    },
    {
      "cell_type": "code",
      "source": [
        "#verify the dataset\n",
        "\n",
        "data_spark.show(30)"
      ],
      "metadata": {
        "colab": {
          "base_uri": "https://localhost:8080/"
        },
        "id": "5iHFmTPNOMff",
        "outputId": "0166322a-716b-44c4-e0f9-d19b83da525d"
      },
      "execution_count": null,
      "outputs": [
        {
          "output_type": "stream",
          "name": "stdout",
          "text": [
            "+-------+----------+-------------+--------------------+--------------------+---------------------------------------+-----------------------------------------------+----------------------+-----------------------+---------------------------------------------------------------+-------------------+------------------------------------------------------+-------------------------------------------------------+----------------------------------------------------------+--------------------------------------+---------------------------------------------------+-----------------------------------------------------+-------------------------------------+----------------------------------------------------+----------------------------------+\n",
            "|dt_year|   dt_date|      country|              region|level_of_development|greenhousegas_emissione_mtco2equivalent|total_government_revenue_proportion_of_gdp_perc|fdi_inflows_millionusd|annual_growth_rate_perc|proportion_of_population_with_primary_reliance_on_clean_fuels_a|mortality_rate_perc|renewable_energy_share_on_the_total_energy_consumption|co2emissions_from_fuel_combustion_in_millions_of_tonnes|fossilfuel_subsidies_consumption_and_production_billionusd|randd_expenditure_proportionofgdp_perc|national_action_plans_as_priority_national_policies|number_of_companies_publishing_sustainability_reports|education_for_sustainable_development|enhance_policy_coherence_for_sustainable_development|land_degraded_over_total_land_area|\n",
            "+-------+----------+-------------+--------------------+--------------------+---------------------------------------+-----------------------------------------------+----------------------+-----------------------+---------------------------------------------------------------+-------------------+------------------------------------------------------+-------------------------------------------------------+----------------------------------------------------------+--------------------------------------+---------------------------------------------------+-----------------------------------------------------+-------------------------------------+----------------------------------------------------+----------------------------------+\n",
            "|   2002|2002-01-01|  Afghanistan|Central and South...|     Least Developed|                                   null|                                           null|                  0.68|    0.42034439999999995|                                                            8.0|               null|                                                 37.83|                                                   null|                                                      null|                                  null|                                               null|                                                 null|                                 null|                                                null|                              null|\n",
            "|   2003|2003-01-01|  Afghanistan|Central and South...|     Least Developed|                                   null|                            0.12095510000000001|                  50.0|    0.10524879999999999|                                                            9.0|               null|                                                 36.66|                                                   null|                                                      null|                                  null|                                               null|                                                 null|                                 null|                                                null|                              null|\n",
            "|   2004|2004-01-01|  Afghanistan|Central and South...|     Least Developed|                                   null|                                      0.1762145|                  57.8|              -0.014901|                                                           11.0|               null|                                                 44.24|                                                   null|                                                      null|                                  null|                                               null|                                                 null|                                 null|                                                null|                              null|\n",
            "|   2005|2005-01-01|  Afghanistan|Central and South...|     Least Developed|                               19.32802|                                      0.1809291|                 186.9|              0.0362119|                                                           12.0|              0.409|                                                 33.88|                                                   null|                                                      null|                                  null|                                               null|                                                 null|                                 null|                                                null|                              null|\n",
            "|   2006|2006-01-01|  Afghanistan|Central and South...|     Least Developed|                                   null|                                      0.3022342|                 271.0|              0.0536479|                                                           14.0|               null|                                                 31.89|                                                   null|                                                      null|                                  null|                                               null|                                                 null|                                 null|                                                null|                              null|\n",
            "|   2007|2007-01-01|  Afghanistan|Central and South...|     Least Developed|                                   null|                                      0.3664007|                 238.0|              0.1962219|                                                           15.0|               null|                                                 28.78|                                                   null|                                                      null|                                  null|                                               null|                                                 null|                                 null|                                                null|                              null|\n",
            "|   2008|2008-01-01|  Afghanistan|Central and South...|     Least Developed|                                   null|                             0.8791616999999999|                188.69|             -0.0332298|                                                           17.0|               null|                                                 21.17|                                                   null|                                                      null|                                  null|                                               null|                                                 null|                                 null|                                                null|                              null|\n",
            "|   2009|2009-01-01|  Afghanistan|Central and South...|     Least Developed|                                   null|                                      0.7457435|                46.034|              0.0824243|                                                           18.0|               null|                                                 16.53|                                                   null|                                                      null|                                  null|                                               null|                                                 null|                                 null|                                                null|                              null|\n",
            "|   2010|2010-01-01|  Afghanistan|Central and South...|     Least Developed|                                   null|                                      0.8577618|               197.513|              0.0239831|                                                           20.0|0.37799999999999995|                                                 15.15|                                                   null|                                                      null|                                  null|                                               null|                                                 null|                                 null|                                                null|                              null|\n",
            "|   2011|2011-01-01|  Afghanistan|Central and South...|     Least Developed|                                   null|                                      0.9579373|                54.201|                0.03459|                                                           22.0|               null|                                                 12.61|                                                   null|                                                      null|                                  null|                                               null|                                                 null|                                 null|                                                null|                              null|\n",
            "|   2012|2012-01-01|  Afghanistan|Central and South...|     Least Developed|                                   null|                             0.6688478000000001|                57.621|              0.0602792|                                                           23.0|               null|                                                 15.36|                                                   null|                                                      null|                                  null|                                               null|                                                 null|                                 null|                                                null|                              null|\n",
            "|   2013|2013-01-01|  Afghanistan|Central and South...|     Least Developed|                                 43.377|                                       0.687931|                47.227|               0.029881|                                                           25.0|               null|                                                 16.86|                                                   null|                                                      null|                                  null|                                               null|                                                 null|                                 null|                                                null|                              null|\n",
            "|   2014|2014-01-01|  Afghanistan|Central and South...|     Least Developed|                                   null|                                      0.5737872|                37.639|             -0.0032792|                                                           26.0|               null|                                                 18.93|                                                   null|                                                      null|                                  null|                                               null|                                                 null|                                 null|                                                null|                              null|\n",
            "|   2015|2015-01-01|  Afghanistan|Central and South...|     Least Developed|                                   null|                                      0.5408558|                 43.51|             -0.0440611|                                                           27.0|0.35600000000000004|                                                 17.53|                                                   null|                                                       0.0|                                  null|                                               null|                                                 null|                                 null|                                                null|                               8.0|\n",
            "|   2016|2016-01-01|  Afghanistan|Central and South...|     Least Developed|                                   null|                                      0.4844198|               163.103|             -0.0123359|                                                           29.0|               null|                                                 19.92|                                                   null|                                                       0.0|                                  null|                                               null|                                                 null|                                 null|                                                null|                              null|\n",
            "|   2017|2017-01-01|  Afghanistan|Central and South...|     Least Developed|                                   null|                                      0.4524778|                 93.59|              0.0006477|                                                           30.0|               null|                                                 19.21|                                                   null|                                                    0.0096|                                  null|                                               null|                                                 null|                                 null|                                                null|                              null|\n",
            "|   2018|2018-01-01|  Afghanistan|Central and South...|     Least Developed|                                   null|                                           null|                 53.39|             -0.0119489|                                                           31.0|               null|                                                 17.96|                                                   null|                                                   0.09697|                                  null|                                               null|                                                 null|                                 null|                                                null|                              null|\n",
            "|   2019|2019-01-01|  Afghanistan|Central and South...|     Least Developed|                                   null|                                           null|                119.44|              0.0153564|                                                           32.0|              0.353|                                                 18.51|                                                   null|                                                   0.14795|                                  null|                                               null|                                                 null|                                 null|                                                null|                              null|\n",
            "|   2020|2020-01-01|  Afghanistan|Central and South...|     Least Developed|                                   null|                                           null|              38.53333|             -0.0416821|                                                           33.0|               null|                                                  null|                                                   null|                                                   0.06024|                                  null|                                               null|                                                 null|                                  0.0|                                                null|                              null|\n",
            "|   2021|2021-01-01|  Afghanistan|Central and South...|     Least Developed|                                   null|                                           null|                  null|                   null|                                                           null|               null|                                                  null|                                                   null|                                                      null|                                  null|                                               null|                                                 null|                                 null|                                                null|                              null|\n",
            "|   2002|2002-01-01|Åland Islands|Europe and North ...|       Not Specified|                                   null|                                           null|                  null|                   null|                                                           null|               null|                                                  null|                                                   null|                                                      null|                                  null|                                               null|                                                 null|                                 null|                                                null|                              null|\n",
            "|   2003|2003-01-01|Åland Islands|Europe and North ...|       Not Specified|                                   null|                                           null|                  null|                   null|                                                           null|               null|                                                  null|                                                   null|                                                      null|                                  null|                                               null|                                                 null|                                 null|                                                null|                              null|\n",
            "|   2004|2004-01-01|Åland Islands|Europe and North ...|       Not Specified|                                   null|                                           null|                  null|                   null|                                                           null|               null|                                                  null|                                                   null|                                                      null|                                  null|                                               null|                                                 null|                                 null|                                                null|                              null|\n",
            "|   2005|2005-01-01|Åland Islands|Europe and North ...|       Not Specified|                                   null|                                           null|                  null|                   null|                                                           null|               null|                                                  null|                                                   null|                                                      null|                                  null|                                               null|                                                 null|                                 null|                                                null|                              null|\n",
            "|   2006|2006-01-01|Åland Islands|Europe and North ...|       Not Specified|                                   null|                                           null|                  null|                   null|                                                           null|               null|                                                  null|                                                   null|                                                      null|                                  null|                                               null|                                                 null|                                 null|                                                null|                              null|\n",
            "|   2007|2007-01-01|Åland Islands|Europe and North ...|       Not Specified|                                   null|                                           null|                  null|                   null|                                                           null|               null|                                                  null|                                                   null|                                                      null|                                  null|                                               null|                                                 null|                                 null|                                                null|                              null|\n",
            "|   2008|2008-01-01|Åland Islands|Europe and North ...|       Not Specified|                                   null|                                           null|                  null|                   null|                                                           null|               null|                                                  null|                                                   null|                                                      null|                                  null|                                               null|                                                 null|                                 null|                                                null|                              null|\n",
            "|   2009|2009-01-01|Åland Islands|Europe and North ...|       Not Specified|                                   null|                                           null|                  null|                   null|                                                           null|               null|                                                  null|                                                   null|                                                      null|                                  null|                                               null|                                                 null|                                 null|                                                null|                              null|\n",
            "|   2010|2010-01-01|Åland Islands|Europe and North ...|       Not Specified|                                   null|                                           null|                  null|                   null|                                                           null|               null|                                                  null|                                                   null|                                                      null|                                  null|                                               null|                                                 null|                                 null|                                                null|                              null|\n",
            "|   2011|2011-01-01|Åland Islands|Europe and North ...|       Not Specified|                                   null|                                           null|                  null|                   null|                                                           null|               null|                                                  null|                                                   null|                                                      null|                                  null|                                               null|                                                 null|                                 null|                                                null|                              null|\n",
            "+-------+----------+-------------+--------------------+--------------------+---------------------------------------+-----------------------------------------------+----------------------+-----------------------+---------------------------------------------------------------+-------------------+------------------------------------------------------+-------------------------------------------------------+----------------------------------------------------------+--------------------------------------+---------------------------------------------------+-----------------------------------------------------+-------------------------------------+----------------------------------------------------+----------------------------------+\n",
            "only showing top 30 rows\n",
            "\n"
          ]
        }
      ]
    },
    {
      "cell_type": "code",
      "source": [
        "#verify the schema()\n",
        "data_spark.printSchema()"
      ],
      "metadata": {
        "colab": {
          "base_uri": "https://localhost:8080/"
        },
        "id": "fIAKBrY_Oz7X",
        "outputId": "5f9bfda6-f0ac-4c62-849f-90499b4d3bd6"
      },
      "execution_count": null,
      "outputs": [
        {
          "output_type": "stream",
          "name": "stdout",
          "text": [
            "root\n",
            " |-- dt_year: string (nullable = true)\n",
            " |-- dt_date: string (nullable = true)\n",
            " |-- country: string (nullable = true)\n",
            " |-- region: string (nullable = true)\n",
            " |-- level_of_development: string (nullable = true)\n",
            " |-- greenhousegas_emissione_mtco2equivalent: string (nullable = true)\n",
            " |-- total_government_revenue_proportion_of_gdp_perc: string (nullable = true)\n",
            " |-- fdi_inflows_millionusd: string (nullable = true)\n",
            " |-- annual_growth_rate_perc: string (nullable = true)\n",
            " |-- proportion_of_population_with_primary_reliance_on_clean_fuels_a: string (nullable = true)\n",
            " |-- mortality_rate_perc: string (nullable = true)\n",
            " |-- renewable_energy_share_on_the_total_energy_consumption: string (nullable = true)\n",
            " |-- co2emissions_from_fuel_combustion_in_millions_of_tonnes: string (nullable = true)\n",
            " |-- fossilfuel_subsidies_consumption_and_production_billionusd: string (nullable = true)\n",
            " |-- randd_expenditure_proportionofgdp_perc: string (nullable = true)\n",
            " |-- national_action_plans_as_priority_national_policies: string (nullable = true)\n",
            " |-- number_of_companies_publishing_sustainability_reports: string (nullable = true)\n",
            " |-- education_for_sustainable_development: string (nullable = true)\n",
            " |-- enhance_policy_coherence_for_sustainable_development: string (nullable = true)\n",
            " |-- land_degraded_over_total_land_area: string (nullable = true)\n",
            "\n"
          ]
        }
      ]
    },
    {
      "cell_type": "code",
      "source": [
        "#return how many lines it have\n",
        "data_spark.count()"
      ],
      "metadata": {
        "colab": {
          "base_uri": "https://localhost:8080/"
        },
        "id": "djpopw-IQ-my",
        "outputId": "ed9b4665-17b9-4abc-d4c1-6559321cf9c8"
      },
      "execution_count": null,
      "outputs": [
        {
          "output_type": "execute_result",
          "data": {
            "text/plain": [
              "5176"
            ]
          },
          "metadata": {},
          "execution_count": 10
        }
      ]
    },
    {
      "cell_type": "code",
      "source": [
        "#select some columns\n",
        "data_spark.select(\"dt_year\", \"country\", \"region\", \"level_of_development\", \"number_of_companies_publishing_sustainability_reports\").show(30)"
      ],
      "metadata": {
        "colab": {
          "base_uri": "https://localhost:8080/"
        },
        "id": "PVKQxBpwRLHO",
        "outputId": "5cb39edd-924a-4ef9-d92e-2922168a274a"
      },
      "execution_count": null,
      "outputs": [
        {
          "output_type": "stream",
          "name": "stdout",
          "text": [
            "+-------+-------------+--------------------+--------------------+-----------------------------------------------------+\n",
            "|dt_year|      country|              region|level_of_development|number_of_companies_publishing_sustainability_reports|\n",
            "+-------+-------------+--------------------+--------------------+-----------------------------------------------------+\n",
            "|   2002|  Afghanistan|Central and South...|     Least Developed|                                                 null|\n",
            "|   2003|  Afghanistan|Central and South...|     Least Developed|                                                 null|\n",
            "|   2004|  Afghanistan|Central and South...|     Least Developed|                                                 null|\n",
            "|   2005|  Afghanistan|Central and South...|     Least Developed|                                                 null|\n",
            "|   2006|  Afghanistan|Central and South...|     Least Developed|                                                 null|\n",
            "|   2007|  Afghanistan|Central and South...|     Least Developed|                                                 null|\n",
            "|   2008|  Afghanistan|Central and South...|     Least Developed|                                                 null|\n",
            "|   2009|  Afghanistan|Central and South...|     Least Developed|                                                 null|\n",
            "|   2010|  Afghanistan|Central and South...|     Least Developed|                                                 null|\n",
            "|   2011|  Afghanistan|Central and South...|     Least Developed|                                                 null|\n",
            "|   2012|  Afghanistan|Central and South...|     Least Developed|                                                 null|\n",
            "|   2013|  Afghanistan|Central and South...|     Least Developed|                                                 null|\n",
            "|   2014|  Afghanistan|Central and South...|     Least Developed|                                                 null|\n",
            "|   2015|  Afghanistan|Central and South...|     Least Developed|                                                 null|\n",
            "|   2016|  Afghanistan|Central and South...|     Least Developed|                                                 null|\n",
            "|   2017|  Afghanistan|Central and South...|     Least Developed|                                                 null|\n",
            "|   2018|  Afghanistan|Central and South...|     Least Developed|                                                 null|\n",
            "|   2019|  Afghanistan|Central and South...|     Least Developed|                                                 null|\n",
            "|   2020|  Afghanistan|Central and South...|     Least Developed|                                                 null|\n",
            "|   2021|  Afghanistan|Central and South...|     Least Developed|                                                 null|\n",
            "|   2002|Åland Islands|Europe and North ...|       Not Specified|                                                 null|\n",
            "|   2003|Åland Islands|Europe and North ...|       Not Specified|                                                 null|\n",
            "|   2004|Åland Islands|Europe and North ...|       Not Specified|                                                 null|\n",
            "|   2005|Åland Islands|Europe and North ...|       Not Specified|                                                 null|\n",
            "|   2006|Åland Islands|Europe and North ...|       Not Specified|                                                 null|\n",
            "|   2007|Åland Islands|Europe and North ...|       Not Specified|                                                 null|\n",
            "|   2008|Åland Islands|Europe and North ...|       Not Specified|                                                 null|\n",
            "|   2009|Åland Islands|Europe and North ...|       Not Specified|                                                 null|\n",
            "|   2010|Åland Islands|Europe and North ...|       Not Specified|                                                 null|\n",
            "|   2011|Åland Islands|Europe and North ...|       Not Specified|                                                 null|\n",
            "+-------+-------------+--------------------+--------------------+-----------------------------------------------------+\n",
            "only showing top 30 rows\n",
            "\n"
          ]
        }
      ]
    },
    {
      "cell_type": "code",
      "source": [
        "#main statistics\n",
        "data_spark.describe().show()"
      ],
      "metadata": {
        "colab": {
          "base_uri": "https://localhost:8080/"
        },
        "id": "69b3vx0hTAlP",
        "outputId": "3e2472e0-0662-4328-c1b0-2647f91a5b13"
      },
      "execution_count": null,
      "outputs": [
        {
          "output_type": "stream",
          "name": "stdout",
          "text": [
            "+-------+------------------+----------+-------------+--------------------+--------------------+---------------------------------------+-----------------------------------------------+----------------------+-----------------------+---------------------------------------------------------------+-------------------+------------------------------------------------------+-------------------------------------------------------+----------------------------------------------------------+--------------------------------------+---------------------------------------------------+-----------------------------------------------------+-------------------------------------+----------------------------------------------------+----------------------------------+\n",
            "|summary|           dt_year|   dt_date|      country|              region|level_of_development|greenhousegas_emissione_mtco2equivalent|total_government_revenue_proportion_of_gdp_perc|fdi_inflows_millionusd|annual_growth_rate_perc|proportion_of_population_with_primary_reliance_on_clean_fuels_a|mortality_rate_perc|renewable_energy_share_on_the_total_energy_consumption|co2emissions_from_fuel_combustion_in_millions_of_tonnes|fossilfuel_subsidies_consumption_and_production_billionusd|randd_expenditure_proportionofgdp_perc|national_action_plans_as_priority_national_policies|number_of_companies_publishing_sustainability_reports|education_for_sustainable_development|enhance_policy_coherence_for_sustainable_development|land_degraded_over_total_land_area|\n",
            "+-------+------------------+----------+-------------+--------------------+--------------------+---------------------------------------+-----------------------------------------------+----------------------+-----------------------+---------------------------------------------------------------+-------------------+------------------------------------------------------+-------------------------------------------------------+----------------------------------------------------------+--------------------------------------+---------------------------------------------------+-----------------------------------------------------+-------------------------------------+----------------------------------------------------+----------------------------------+\n",
            "|  count|              5176|      5176|         5176|                5176|                5176|                                   1192|                                           2693|                  3919|                   4010|                                                           3627|                732|                                                  4113|                                                   2597|                                                      1141|                                  1570|                                                 85|                                                  374|                                  244|                                                  26|                               124|\n",
            "|   mean|2011.4930448222565|      null|         null|                null|                null|                      349.7872198322147|                            0.31223318700334235|    6865.6756101199335|   0.018004837730673292|                                             62.385166804521646|0.21426502732240424|                                    27.741478239727705|                                     198.37282287254538|                                        2.1080944522348815|                  0.009325053757961792|                                                1.0|                                    104.3663101604278|                    0.224266393442623|                                    75.0576923076923|                19.758064516129032|\n",
            "| stddev| 5.763616511154472|      null|         null|                null|                null|                     1082.4333839437122|                             0.1913279892409363|     23807.91526616819|    0.06096017907159836|                                              36.68686881736023|0.08123476462188459|                                     29.14005388918269|                                      798.9343086073159|                                         6.041865900380216|                  0.009582170763059382|                                                0.0|                                   221.35614683425524|                  0.38971417026304245|                                   14.90676150146431|                 16.82447451081042|\n",
            "|    min|              2002|2002-01-01|  Afghanistan|Central and South...| Developed Economies|                                0.00487|                                            0.0|              -0.00229|             -0.0000033|                                                           10.0|              0.073|                                                   0.0|                                                   0.36|                                                       0.0|                             0.0000544|                                                1.0|                                                 10.0|                                  0.0|                                               100.0|                               0.0|\n",
            "|    max|              2021|2021-01-01|Åland Islands|  Sub-Saharan Africa|       Not Specified|                              999.35467|                                      3.6563463|                 998.1|              0.9461399|                                                           95.0|              0.545|                                                 98.27|                                                  99.95|                                                   9.92473|                             0.0494079|                                                1.0|                                                980.0|                                  1.0|                                                97.5|                              97.0|\n",
            "+-------+------------------+----------+-------------+--------------------+--------------------+---------------------------------------+-----------------------------------------------+----------------------+-----------------------+---------------------------------------------------------------+-------------------+------------------------------------------------------+-------------------------------------------------------+----------------------------------------------------------+--------------------------------------+---------------------------------------------------+-----------------------------------------------------+-------------------------------------+----------------------------------------------------+----------------------------------+\n",
            "\n"
          ]
        }
      ]
    },
    {
      "cell_type": "code",
      "source": [
        "#sql import to use group by\n",
        "from pyspark.sql import functions as F"
      ],
      "metadata": {
        "id": "0UI5CugWUcgp"
      },
      "execution_count": null,
      "outputs": []
    },
    {
      "cell_type": "code",
      "source": [
        "# Group the data by \"region\" and \"level_of_development\"\n",
        "grouped_data = data_spark.groupBy(\"region\", \"level_of_development\")\n",
        "\n",
        "# Apply an aggregation function to the grouped data (e.g., count)\n",
        "result = grouped_data.count()\n",
        "\n",
        "# Show the result\n",
        "result.show(30)\n"
      ],
      "metadata": {
        "colab": {
          "base_uri": "https://localhost:8080/"
        },
        "id": "n6h-LyiiUowK",
        "outputId": "49869bad-6ae3-4fce-a40f-41fbcc121249"
      },
      "execution_count": null,
      "outputs": [
        {
          "output_type": "stream",
          "name": "stdout",
          "text": [
            "+--------------------+--------------------+-----+\n",
            "|              region|level_of_development|count|\n",
            "+--------------------+--------------------+-----+\n",
            "|Central and South...|Economies in Tran...|   98|\n",
            "|Eastern and South...|     Least Developed|   60|\n",
            "|               Other|       Not Specified|  800|\n",
            "|Eastern and South...| Developed Economies|   20|\n",
            "|Central and South...|     Least Developed|   80|\n",
            "|Central and South...|Developing Economies|   80|\n",
            "|Europe and North ...|Economies in Tran...|  160|\n",
            "|             Oceania|       Not Specified|  100|\n",
            "|               Other|     Least Developed|   80|\n",
            "|Eastern and South...|       Not Specified|   60|\n",
            "|North Africa and ...|       Not Specified|   60|\n",
            "|Latin America and...|Developing Economies|  460|\n",
            "|Central and South...|       Not Specified|   20|\n",
            "|             Oceania| Developed Economies|   40|\n",
            "|               Other|Developing Economies|   20|\n",
            "|Europe and North ...| Developed Economies|  700|\n",
            "|Eastern and South...|Developing Economies|  200|\n",
            "|Latin America and...|       Not Specified|  500|\n",
            "|North Africa and ...|Developing Economies|  320|\n",
            "|  Sub-Saharan Africa|       Not Specified|   60|\n",
            "|  Sub-Saharan Africa|Developing Economies|  258|\n",
            "|North Africa and ...|     Least Developed|   40|\n",
            "|North Africa and ...| Developed Economies|   20|\n",
            "|North Africa and ...|Economies in Tran...|   60|\n",
            "|Latin America and...|     Least Developed|   20|\n",
            "|  Sub-Saharan Africa|     Least Developed|  660|\n",
            "|Europe and North ...|       Not Specified|  200|\n",
            "+--------------------+--------------------+-----+\n",
            "\n"
          ]
        }
      ]
    },
    {
      "cell_type": "code",
      "source": [
        "from pyspark.sql.functions import col\n",
        "\n",
        "\n",
        "country = \"Brazil\"\n",
        "\n",
        "# Filter data for the specific country and years 2002 and 2021\n",
        "filtered_data = data_spark.filter((col(\"country\") == country) & (col(\"dt_year\").between(2002, 2021)))\n",
        "\n",
        "# analyze or aggregate the filtered data as needed\n",
        "filtered_data.show()  # Display the filtered data, or perform further calculations\n"
      ],
      "metadata": {
        "colab": {
          "base_uri": "https://localhost:8080/"
        },
        "id": "GWxO7S6V_zQv",
        "outputId": "72384b07-8044-4f90-a384-4e15d366e8ee"
      },
      "execution_count": null,
      "outputs": [
        {
          "output_type": "stream",
          "name": "stdout",
          "text": [
            "+-------+----------+-------+--------------------+--------------------+---------------------------------------+-----------------------------------------------+----------------------+-----------------------+---------------------------------------------------------------+-------------------+------------------------------------------------------+-------------------------------------------------------+----------------------------------------------------------+--------------------------------------+---------------------------------------------------+-----------------------------------------------------+-------------------------------------+----------------------------------------------------+----------------------------------+\n",
            "|dt_year|   dt_date|country|              region|level_of_development|greenhousegas_emissione_mtco2equivalent|total_government_revenue_proportion_of_gdp_perc|fdi_inflows_millionusd|annual_growth_rate_perc|proportion_of_population_with_primary_reliance_on_clean_fuels_a|mortality_rate_perc|renewable_energy_share_on_the_total_energy_consumption|co2emissions_from_fuel_combustion_in_millions_of_tonnes|fossilfuel_subsidies_consumption_and_production_billionusd|randd_expenditure_proportionofgdp_perc|national_action_plans_as_priority_national_policies|number_of_companies_publishing_sustainability_reports|education_for_sustainable_development|enhance_policy_coherence_for_sustainable_development|land_degraded_over_total_land_area|\n",
            "+-------+----------+-------+--------------------+--------------------+---------------------------------------+-----------------------------------------------+----------------------+-----------------------+---------------------------------------------------------------+-------------------+------------------------------------------------------+-------------------------------------------------------+----------------------------------------------------------+--------------------------------------+---------------------------------------------------+-----------------------------------------------------+-------------------------------------+----------------------------------------------------+----------------------------------+\n",
            "|   2002|2002-01-01| Brazil|Latin America and...|Developing Economies|                               760.9631|                                           null|             22457.353|              0.0131926|                                                           90.0|               null|                                                 42.85|                                                 301.09|                                                      null|                             0.0100968|                                               null|                                                 null|                                 null|                                                null|                              null|\n",
            "|   2003|2003-01-01| Brazil|Latin America and...|Developing Economies|                              778.78571|                                           null|             16590.204|             -0.0011722|                                                           91.0|               null|                                                 45.11|                                                 295.62|                                                      null|                             0.0099939|                                               null|                                                 null|                                 null|                                                null|                              null|\n",
            "|   2004|2004-01-01| Brazil|Latin America and...|Developing Economies|                              815.88721|                                           null|             10143.525|              0.0436837|                                                           91.0|               null|                                                 45.18|                                                 313.26|                                                      null|                             0.0096343|                                               null|                                                 null|                                 null|                                                null|                              null|\n",
            "|   2005|2005-01-01| Brazil|Latin America and...|Developing Economies|                              830.17687|                                           null|             18145.883|              0.0202631|                                                           92.0|               0.19|                                                 46.13|                                                 314.12|                                                      null|                             0.0100246|                                               null|                                                 null|                                 null|                                                null|                              null|\n",
            "|   2006|2006-01-01| Brazil|Latin America and...|Developing Economies|                              837.35538|                                           null|             15066.292|              0.0283475|                                                           92.0|               null|                                                 46.67|                                                 317.75|                                                      null|                             0.0098807|                                               null|                                                 null|                                 null|                                                null|                              null|\n",
            "|   2007|2007-01-01| Brazil|Latin America and...|Developing Economies|                              843.61861|                                           null|             18822.208|   0.049747000000000006|                                                           93.0|               null|                                                 47.19|                                                 333.37|                                                      null|                             0.0108138|                                               null|                                                 null|                                 null|                                                null|                              null|\n",
            "|   2008|2008-01-01| Brazil|Latin America and...|Developing Economies|                              872.59278|                                           null|             34584.901|              0.0405441|                                                           93.0|               null|                                                 47.04|                                                 352.24|                                                      null|                             0.0112904|                                               null|                                                 null|                                 null|                                                null|                              null|\n",
            "|   2009|2009-01-01| Brazil|Latin America and...|Developing Economies|                              858.58547|                                           null|             45058.156|             -0.0108194|                                                           94.0|               null|                                                 48.92|                                                 327.79|                                                      null|                             0.0111866|                                               null|                                                 null|                                 null|                                                null|                              null|\n",
            "|   2010|2010-01-01| Brazil|Latin America and...|Developing Economies|                               921.0551|                                      0.3905718|              25948.58|              0.0652437|                                                           94.0|              0.177|                                                 46.81|                                                 374.44|                                                      null|                             0.0115992|                                               null|                                                 null|                                 null|                                                null|                              null|\n",
            "|   2011|2011-01-01| Brazil|Latin America and...|Developing Economies|                              954.16329|                                      0.3972929|             77686.848|   0.030264000000000003|                                                           94.0|               null|                                                 45.26|                                                 392.76|                                                      null|                             0.0113966|                                               null|                                                 null|                                 null|                                                null|                              null|\n",
            "|   2012|2012-01-01| Brazil|Latin America and...|Developing Economies|                              985.90461|                                      0.4025313|             97421.786|              0.0101453|                                                           95.0|               null|                                                 43.49|                                                 426.04|                                                      null|                  0.011268400000000001|                                               null|                                                 null|                                 null|                                                null|                              null|\n",
            "|   2013|2013-01-01| Brazil|Latin America and...|Developing Economies|                             1030.98567|                            0.39569119999999997|              82059.83|              0.0210889|                                                           95.0|               null|                                                 42.32|                                                 457.51|                                                      null|                             0.0119567|                                               null|                                                 null|                                 null|                                                null|                              null|\n",
            "|   2014|2014-01-01| Brazil|Latin America and...|Developing Economies|                             1062.89704|                                      0.3848195|             59089.345|   -0.00352480000000...|                                                           95.0|               null|                                                 41.71|                                                 481.64|                                                      null|                             0.0127131|                                               null|                                                 null|                                 null|                                                null|                              null|\n",
            "|   2015|2015-01-01| Brazil|Latin America and...|Developing Economies|                             1041.67699|                                      0.4034902|             63845.886|   -0.04351479999999999|                                                           95.0|              0.162|                                                 43.62|                                                 457.61|                                                  16.79126|                             0.0134264|                                               null|                                                 null|                                 null|                                                null|                              27.0|\n",
            "|   2016|2016-01-01| Brazil|Latin America and...|Developing Economies|                             1014.70238|                            0.41009549999999995|           49961.36699|              -0.040694|                                                           95.0|               null|                                                 45.46|                                                 421.78|                                                  13.59591|                  0.012634300000000001|                                               null|                                                118.0|                                 null|                                                null|                              null|\n",
            "|   2017|2017-01-01| Brazil|Latin America and...|Developing Economies|                                   null|                            0.39791400000000005|           53700.38366|              0.0050834|                                                           95.0|               null|                                                 45.33|                                                 433.26|                                                   9.92473|                             0.0109392|                                                1.0|                                                128.0|                                 null|                                                null|                              null|\n",
            "|   2018|2018-01-01| Brazil|Latin America and...|Developing Economies|                                   null|                            0.40500970000000003|           66584.92744|              0.0098896|                                                           95.0|               null|                                                 46.95|                                                 411.35|                                                   9.60992|                             0.0116038|                                               null|                                                134.0|                                 null|                                                null|                              null|\n",
            "|   2019|2019-01-01| Brazil|Latin America and...|Developing Economies|                                   null|                                      0.4167527|           59802.40649|              0.0065185|                                                           95.0|              0.155|                                                 47.57|                                                 410.99|                                                     8.036|                                  null|                                               null|                                                164.0|                                 null|                                                null|                              null|\n",
            "|   2020|2020-01-01| Brazil|Latin America and...|Developing Economies|                                   null|                                      0.3875506|           65386.04132|   -0.04740560000000...|                                                           95.0|               null|                                                  null|                                                   null|                                                   6.00073|                                  null|                                               null|                                                182.0|                                  1.0|                                                null|                              null|\n",
            "|   2021|2021-01-01| Brazil|Latin America and...|Developing Economies|                                   null|                                           null|                  null|                   null|                                                           null|               null|                                                  null|                                                   null|                                                      null|                                  null|                                               null|                                                 null|                                 null|                                                null|                              null|\n",
            "+-------+----------+-------+--------------------+--------------------+---------------------------------------+-----------------------------------------------+----------------------+-----------------------+---------------------------------------------------------------+-------------------+------------------------------------------------------+-------------------------------------------------------+----------------------------------------------------------+--------------------------------------+---------------------------------------------------+-----------------------------------------------------+-------------------------------------+----------------------------------------------------+----------------------------------+\n",
            "\n"
          ]
        }
      ]
    },
    {
      "cell_type": "code",
      "source": [
        "import pandas as pd\n",
        "import matplotlib.pyplot as plt\n",
        "\n",
        "# Replace 'Brazil' with the name of the country you want to analyze\n",
        "country = \"Brazil\"\n",
        "\n",
        "# Filter data for the specific country and years 2002 to 2021\n",
        "filtered_data = data_spark.filter((col(\"country\") == country) & (col(\"dt_year\").between(2002, 2021)))\n",
        "\n",
        "# Group the filtered data by the SDG\n",
        "grouped_data = filtered_data.groupBy(\"greenhousegas_emissione_mtco2equivalent\")\n",
        "\n",
        "# Calculate statistics for each SDG, for example, average values of relevant columns\n",
        "result = grouped_data.avg(\"greenhousegas_emissione_mtco2equivalent\")\n",
        "\n",
        "# Convert the result to a Pandas DataFrame for visualization\n",
        "result_pandas = result.toPandas()\n",
        "\n",
        "# plot the data using Matplotlib\n",
        "# Assuming you want to compare 'column1' and 'column2' for each SDG\n",
        "plt.figure(figsize=(12, 6))\n",
        "for column in [\"avg(greenhousegas_emissione_mtco2equivalent)\"]:\n",
        "    plt.plot(result_pandas['sdg'], result_pandas[column], label=column)\n",
        "plt.xlabel('SDG')\n",
        "plt.ylabel('Average Value')\n",
        "plt.title(f'Evolution of SDGs 1 for {country} (2002-2021)')\n",
        "plt.legend()\n",
        "plt.grid(True)\n",
        "plt.show()\n"
      ],
      "metadata": {
        "colab": {
          "base_uri": "https://localhost:8080/",
          "height": 391
        },
        "id": "6qPvnnvZJ7I3",
        "outputId": "671bbf64-9be6-46fc-c332-2fa39852564f"
      },
      "execution_count": null,
      "outputs": [
        {
          "output_type": "error",
          "ename": "AnalysisException",
          "evalue": "ignored",
          "traceback": [
            "\u001b[0;31m---------------------------------------------------------------------------\u001b[0m",
            "\u001b[0;31mAnalysisException\u001b[0m                         Traceback (most recent call last)",
            "\u001b[0;32m<ipython-input-21-5723f2c508a1>\u001b[0m in \u001b[0;36m<cell line: 14>\u001b[0;34m()\u001b[0m\n\u001b[1;32m     12\u001b[0m \u001b[0;34m\u001b[0m\u001b[0m\n\u001b[1;32m     13\u001b[0m \u001b[0;31m# Calculate statistics for each SDG, for example, average values of relevant columns\u001b[0m\u001b[0;34m\u001b[0m\u001b[0;34m\u001b[0m\u001b[0m\n\u001b[0;32m---> 14\u001b[0;31m \u001b[0mresult\u001b[0m \u001b[0;34m=\u001b[0m \u001b[0mgrouped_data\u001b[0m\u001b[0;34m.\u001b[0m\u001b[0mavg\u001b[0m\u001b[0;34m(\u001b[0m\u001b[0;34m\"greenhousegas_emissione_mtco2equivalent\"\u001b[0m\u001b[0;34m)\u001b[0m\u001b[0;34m\u001b[0m\u001b[0;34m\u001b[0m\u001b[0m\n\u001b[0m\u001b[1;32m     15\u001b[0m \u001b[0;34m\u001b[0m\u001b[0m\n\u001b[1;32m     16\u001b[0m \u001b[0;31m# Convert the result to a Pandas DataFrame for visualization\u001b[0m\u001b[0;34m\u001b[0m\u001b[0;34m\u001b[0m\u001b[0m\n",
            "\u001b[0;32m/content/spark-3.4.1-bin-hadoop3/python/pyspark/sql/group.py\u001b[0m in \u001b[0;36m_api\u001b[0;34m(self, *cols)\u001b[0m\n\u001b[1;32m     47\u001b[0m     \u001b[0;32mdef\u001b[0m \u001b[0m_api\u001b[0m\u001b[0;34m(\u001b[0m\u001b[0mself\u001b[0m\u001b[0;34m:\u001b[0m \u001b[0;34m\"GroupedData\"\u001b[0m\u001b[0;34m,\u001b[0m \u001b[0;34m*\u001b[0m\u001b[0mcols\u001b[0m\u001b[0;34m:\u001b[0m \u001b[0mstr\u001b[0m\u001b[0;34m)\u001b[0m \u001b[0;34m->\u001b[0m \u001b[0mDataFrame\u001b[0m\u001b[0;34m:\u001b[0m\u001b[0;34m\u001b[0m\u001b[0;34m\u001b[0m\u001b[0m\n\u001b[1;32m     48\u001b[0m         \u001b[0mname\u001b[0m \u001b[0;34m=\u001b[0m \u001b[0mf\u001b[0m\u001b[0;34m.\u001b[0m\u001b[0m__name__\u001b[0m\u001b[0;34m\u001b[0m\u001b[0;34m\u001b[0m\u001b[0m\n\u001b[0;32m---> 49\u001b[0;31m         \u001b[0mjdf\u001b[0m \u001b[0;34m=\u001b[0m \u001b[0mgetattr\u001b[0m\u001b[0;34m(\u001b[0m\u001b[0mself\u001b[0m\u001b[0;34m.\u001b[0m\u001b[0m_jgd\u001b[0m\u001b[0;34m,\u001b[0m \u001b[0mname\u001b[0m\u001b[0;34m)\u001b[0m\u001b[0;34m(\u001b[0m\u001b[0m_to_seq\u001b[0m\u001b[0;34m(\u001b[0m\u001b[0mself\u001b[0m\u001b[0;34m.\u001b[0m\u001b[0msession\u001b[0m\u001b[0;34m.\u001b[0m\u001b[0m_sc\u001b[0m\u001b[0;34m,\u001b[0m \u001b[0mcols\u001b[0m\u001b[0;34m)\u001b[0m\u001b[0;34m)\u001b[0m\u001b[0;34m\u001b[0m\u001b[0;34m\u001b[0m\u001b[0m\n\u001b[0m\u001b[1;32m     50\u001b[0m         \u001b[0;32mreturn\u001b[0m \u001b[0mDataFrame\u001b[0m\u001b[0;34m(\u001b[0m\u001b[0mjdf\u001b[0m\u001b[0;34m,\u001b[0m \u001b[0mself\u001b[0m\u001b[0;34m.\u001b[0m\u001b[0msession\u001b[0m\u001b[0;34m)\u001b[0m\u001b[0;34m\u001b[0m\u001b[0;34m\u001b[0m\u001b[0m\n\u001b[1;32m     51\u001b[0m \u001b[0;34m\u001b[0m\u001b[0m\n",
            "\u001b[0;32m/content/spark-3.4.1-bin-hadoop3/python/lib/py4j-0.10.9.7-src.zip/py4j/java_gateway.py\u001b[0m in \u001b[0;36m__call__\u001b[0;34m(self, *args)\u001b[0m\n\u001b[1;32m   1320\u001b[0m \u001b[0;34m\u001b[0m\u001b[0m\n\u001b[1;32m   1321\u001b[0m         \u001b[0manswer\u001b[0m \u001b[0;34m=\u001b[0m \u001b[0mself\u001b[0m\u001b[0;34m.\u001b[0m\u001b[0mgateway_client\u001b[0m\u001b[0;34m.\u001b[0m\u001b[0msend_command\u001b[0m\u001b[0;34m(\u001b[0m\u001b[0mcommand\u001b[0m\u001b[0;34m)\u001b[0m\u001b[0;34m\u001b[0m\u001b[0;34m\u001b[0m\u001b[0m\n\u001b[0;32m-> 1322\u001b[0;31m         return_value = get_return_value(\n\u001b[0m\u001b[1;32m   1323\u001b[0m             answer, self.gateway_client, self.target_id, self.name)\n\u001b[1;32m   1324\u001b[0m \u001b[0;34m\u001b[0m\u001b[0m\n",
            "\u001b[0;32m/content/spark-3.4.1-bin-hadoop3/python/pyspark/errors/exceptions/captured.py\u001b[0m in \u001b[0;36mdeco\u001b[0;34m(*a, **kw)\u001b[0m\n\u001b[1;32m    173\u001b[0m                 \u001b[0;31m# Hide where the exception came from that shows a non-Pythonic\u001b[0m\u001b[0;34m\u001b[0m\u001b[0;34m\u001b[0m\u001b[0m\n\u001b[1;32m    174\u001b[0m                 \u001b[0;31m# JVM exception message.\u001b[0m\u001b[0;34m\u001b[0m\u001b[0;34m\u001b[0m\u001b[0m\n\u001b[0;32m--> 175\u001b[0;31m                 \u001b[0;32mraise\u001b[0m \u001b[0mconverted\u001b[0m \u001b[0;32mfrom\u001b[0m \u001b[0;32mNone\u001b[0m\u001b[0;34m\u001b[0m\u001b[0;34m\u001b[0m\u001b[0m\n\u001b[0m\u001b[1;32m    176\u001b[0m             \u001b[0;32melse\u001b[0m\u001b[0;34m:\u001b[0m\u001b[0;34m\u001b[0m\u001b[0;34m\u001b[0m\u001b[0m\n\u001b[1;32m    177\u001b[0m                 \u001b[0;32mraise\u001b[0m\u001b[0;34m\u001b[0m\u001b[0;34m\u001b[0m\u001b[0m\n",
            "\u001b[0;31mAnalysisException\u001b[0m: \"greenhousegas_emissione_mtco2equivalent\" is not a numeric column. Aggregation function can only be applied on a numeric column."
          ]
        }
      ]
    }
  ]
}