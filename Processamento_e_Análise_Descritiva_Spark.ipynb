{
  "nbformat": 4,
  "nbformat_minor": 0,
  "metadata": {
    "colab": {
      "provenance": [],
      "include_colab_link": true
    },
    "kernelspec": {
      "display_name": "Python 3",
      "language": "python",
      "name": "python3"
    },
    "language_info": {
      "codemirror_mode": {
        "name": "ipython",
        "version": 3
      },
      "file_extension": ".py",
      "mimetype": "text/x-python",
      "name": "python",
      "nbconvert_exporter": "python",
      "pygments_lexer": "ipython3",
      "version": "3.6.5"
    }
  },
  "cells": [
    {
      "cell_type": "markdown",
      "metadata": {
        "id": "view-in-github",
        "colab_type": "text"
      },
      "source": [
        "<a href=\"https://colab.research.google.com/github/GaboRamalho/Big-Data/blob/main/Processamento_e_An%C3%A1lise_Descritiva_Spark.ipynb\" target=\"_parent\"><img src=\"https://colab.research.google.com/assets/colab-badge.svg\" alt=\"Open In Colab\"/></a>"
      ]
    },
    {
      "cell_type": "code",
      "metadata": {
        "id": "KR1zLBk1998Z"
      },
      "source": [
        "!pip install pyspark"
      ],
      "execution_count": null,
      "outputs": []
    },
    {
      "cell_type": "code",
      "source": [
        "# Iniciar uma sessão local e importar dados\n",
        "from pyspark.sql import SparkSession\n",
        "sc = SparkSession.builder.master('local[*]').getOrCreate()"
      ],
      "metadata": {
        "id": "Kb3eP-ioi2xm"
      },
      "execution_count": null,
      "outputs": []
    },
    {
      "cell_type": "markdown",
      "source": [
        "# **BASE DE DADOS 1**"
      ],
      "metadata": {
        "id": "2L7Y_THLvKt4"
      }
    },
    {
      "cell_type": "markdown",
      "metadata": {
        "id": "hmIqq6xPK7m7"
      },
      "source": [
        "## Explorando a base de dados"
      ]
    },
    {
      "cell_type": "code",
      "metadata": {
        "id": "hz6ALr5mMqZt"
      },
      "source": [
        "df = sc.read.csv('terremotos.csv', header=True, sep=\";\",  inferSchema=True)\n",
        "df.show(5)"
      ],
      "execution_count": null,
      "outputs": []
    },
    {
      "cell_type": "code",
      "metadata": {
        "id": "I1qqkqcfxM0v"
      },
      "source": [
        "df.show(5, truncate=False)"
      ],
      "execution_count": null,
      "outputs": []
    },
    {
      "cell_type": "markdown",
      "metadata": {
        "id": "eUazdCEmu_sp"
      },
      "source": [
        "### Visualizando as colunas"
      ]
    },
    {
      "cell_type": "code",
      "metadata": {
        "id": "9o7jsazcu-13"
      },
      "source": [
        "df.columns"
      ],
      "execution_count": null,
      "outputs": []
    },
    {
      "cell_type": "markdown",
      "metadata": {
        "id": "3lfS2DhHuhPl"
      },
      "source": [
        "<a id='dataframe-schema'></a>\n",
        "### Dataframe Schema"
      ]
    },
    {
      "cell_type": "code",
      "metadata": {
        "id": "w6qwTjGsNxrw",
        "colab": {
          "base_uri": "https://localhost:8080/",
          "height": 175
        },
        "outputId": "d7985f3c-5cdc-44e5-aebb-9ca4ef10ad28"
      },
      "source": [
        "df.dtypes"
      ],
      "execution_count": null,
      "outputs": [
        {
          "output_type": "error",
          "ename": "NameError",
          "evalue": "ignored",
          "traceback": [
            "\u001b[0;31m---------------------------------------------------------------------------\u001b[0m",
            "\u001b[0;31mNameError\u001b[0m                                 Traceback (most recent call last)",
            "\u001b[0;32m<ipython-input-1-5cc0934cc03c>\u001b[0m in \u001b[0;36m<cell line: 1>\u001b[0;34m()\u001b[0m\n\u001b[0;32m----> 1\u001b[0;31m \u001b[0mdf\u001b[0m\u001b[0;34m.\u001b[0m\u001b[0mdtypes\u001b[0m\u001b[0;34m\u001b[0m\u001b[0;34m\u001b[0m\u001b[0m\n\u001b[0m",
            "\u001b[0;31mNameError\u001b[0m: name 'df' is not defined"
          ]
        }
      ]
    },
    {
      "cell_type": "code",
      "metadata": {
        "id": "CCGTFlCWRPw4"
      },
      "source": [
        "df.printSchema()"
      ],
      "execution_count": null,
      "outputs": []
    },
    {
      "cell_type": "markdown",
      "metadata": {
        "id": "rsD48rckdHPe"
      },
      "source": [
        "## Colunas"
      ]
    },
    {
      "cell_type": "markdown",
      "metadata": {
        "id": "cMlxdWfSY8ks"
      },
      "source": [
        "\n",
        "\n",
        "1.   Selecionar coluna\n",
        "2.   Selecionar várias colunas\n",
        "3.   Adicionar coluna\n",
        "4.   Renomear\n",
        "5.   Agrupar\n",
        "6.   Remover\n",
        "\n"
      ]
    },
    {
      "cell_type": "markdown",
      "metadata": {
        "id": "ikGR5pDICTu7"
      },
      "source": [
        "\n",
        "### Selecionando 1 coluna"
      ]
    },
    {
      "cell_type": "code",
      "metadata": {
        "id": "ge9-_ygideWk"
      },
      "source": [
        "df.select(df.Magnitude).show(10)"
      ],
      "execution_count": null,
      "outputs": []
    },
    {
      "cell_type": "code",
      "metadata": {
        "id": "6Gkf14sHec9a"
      },
      "source": [
        "from pyspark.sql.functions import col\n",
        "df.select(col('Magnitude')).show(10)"
      ],
      "execution_count": null,
      "outputs": []
    },
    {
      "cell_type": "markdown",
      "metadata": {
        "id": "z6QsMfnNt3qF"
      },
      "source": [
        "\n",
        "### Selecionando múltiplas colunas"
      ]
    },
    {
      "cell_type": "code",
      "metadata": {
        "id": "RgQ20-4GugjR"
      },
      "source": [
        "df.select(col('Magnitude'),col('Profundidade(km)')).show(10)"
      ],
      "execution_count": null,
      "outputs": []
    },
    {
      "cell_type": "markdown",
      "metadata": {
        "id": "85Lv3zSXCcOY"
      },
      "source": [
        "\n",
        "### Adicionar nova coluna"
      ]
    },
    {
      "cell_type": "markdown",
      "metadata": {
        "id": "KQ6Ul9HGCwC3"
      },
      "source": [
        "#### Datas"
      ]
    },
    {
      "cell_type": "code",
      "metadata": {
        "id": "dGaQS_pOwx_b"
      },
      "source": [
        "from pyspark.sql.functions import *\n",
        "df = df.withColumn('Hora_', hour(df.Hora))\n",
        "df = df.withColumn('Minuto', minute(df.Hora))\n",
        "df.show(3, truncate=False)"
      ],
      "execution_count": null,
      "outputs": []
    },
    {
      "cell_type": "code",
      "source": [
        "df = df.withColumn('Ano', year(to_date(df.Data, 'yyyy.MM.dd')))\n",
        "df = df.withColumn('Mês', month(to_date(df.Data, 'yyyy.MM.dd')))\n",
        "df.show(3, truncate=False)"
      ],
      "metadata": {
        "id": "rXA7ZVmQjwK_"
      },
      "execution_count": null,
      "outputs": []
    },
    {
      "cell_type": "code",
      "source": [
        "df = df.withColumn('Mult', (col('Profundidade(km)')*col('Magnitude')))\n",
        "df.show(3)"
      ],
      "metadata": {
        "id": "ZjWfBpDx1kX-"
      },
      "execution_count": null,
      "outputs": []
    },
    {
      "cell_type": "markdown",
      "metadata": {
        "id": "QlMf04i2CjDC"
      },
      "source": [
        "\n",
        "### Renomear Coluna"
      ]
    },
    {
      "cell_type": "code",
      "metadata": {
        "id": "QJqgy6lKfk2o"
      },
      "source": [
        "df = df.withColumnRenamed('Tipo', 'TipoTerremoto')\n",
        "df.show(3, truncate=False)"
      ],
      "execution_count": null,
      "outputs": []
    },
    {
      "cell_type": "markdown",
      "metadata": {
        "id": "4CDifVC2Cnml"
      },
      "source": [
        "\n",
        "### Agrupando por colunas"
      ]
    },
    {
      "cell_type": "code",
      "metadata": {
        "id": "M1ek2opVfqea"
      },
      "source": [
        "df.groupBy('Ano').count().show(10)"
      ],
      "execution_count": null,
      "outputs": []
    },
    {
      "cell_type": "code",
      "source": [
        "df.groupBy('TipoTerremoto').count().show()"
      ],
      "metadata": {
        "id": "lC025aGWq6wV"
      },
      "execution_count": null,
      "outputs": []
    },
    {
      "cell_type": "code",
      "metadata": {
        "id": "hUh_TWcOysoL"
      },
      "source": [
        "df.groupBy('TipoTerremoto', 'Ano').count().show(20)"
      ],
      "execution_count": null,
      "outputs": []
    },
    {
      "cell_type": "markdown",
      "metadata": {
        "id": "CbpEj9fECrW3"
      },
      "source": [
        "\n",
        "### Remover Colunas"
      ]
    },
    {
      "cell_type": "code",
      "metadata": {
        "id": "xsb9PXxpfnmh"
      },
      "source": [
        "df = df.drop('Data','Hora')\n",
        "df.show(5,truncate=False)"
      ],
      "execution_count": null,
      "outputs": []
    },
    {
      "cell_type": "markdown",
      "metadata": {
        "id": "WbKK5iHwmIoV"
      },
      "source": [
        "\n",
        "## Linhas"
      ]
    },
    {
      "cell_type": "markdown",
      "metadata": {
        "id": "Quwx3KlLzeq9"
      },
      "source": [
        "\n",
        "1. Filtrando Linhas\n",
        "2. Obtedo linhas distintas\n",
        "3. Classificando Linhas\n",
        "\n",
        "\n"
      ]
    },
    {
      "cell_type": "markdown",
      "metadata": {
        "id": "9bKlvX-SH-Wy"
      },
      "source": [
        "\n",
        "### Filtrando/selecionando por linhas"
      ]
    },
    {
      "cell_type": "code",
      "metadata": {
        "id": "YNfcjOIknA3n"
      },
      "source": [
        "total_contagem = df.count()\n",
        "print(\"TOTAL Contagem: \" + str(total_contagem)+'\\n')\n",
        "\n",
        "ano_2022_contagem = df.filter(col('Ano')==2022).count()\n",
        "print(\"2022 Contagem: \" + str(ano_2022_contagem)+'\\n')\n",
        "\n",
        "base_2022 = df.filter(col('Ano')==2022).show(truncate=False)"
      ],
      "execution_count": null,
      "outputs": []
    },
    {
      "cell_type": "code",
      "metadata": {
        "id": "MXJxRwBQ1lyd"
      },
      "source": [
        "ano_2022_magnitude = df.filter((col('Ano')==2022) &\n",
        "                                  (col('Magnitude')>4)).count()\n",
        "\n",
        "print(\"2022 Contagem:\" + str(ano_2022_magnitude)+'\\n')\n",
        "\n",
        "df.filter((col('Ano')==2022) &\n",
        "                              (col('Magnitude')>4)).show(truncate=False)"
      ],
      "execution_count": null,
      "outputs": []
    },
    {
      "cell_type": "markdown",
      "metadata": {
        "id": "zLU-a4auIEvh"
      },
      "source": [
        "\n",
        "### Distinct"
      ]
    },
    {
      "cell_type": "code",
      "metadata": {
        "id": "B1RKg1UrmBQz"
      },
      "source": [
        "df.select('Ano').distinct().show()"
      ],
      "execution_count": null,
      "outputs": []
    },
    {
      "cell_type": "code",
      "metadata": {
        "id": "_LQWXPXt0g0N"
      },
      "source": [
        "df.select('Ano','TipoTerremoto').distinct().show()"
      ],
      "execution_count": null,
      "outputs": []
    },
    {
      "cell_type": "markdown",
      "metadata": {
        "id": "-069UYUwIIYI"
      },
      "source": [
        "\n",
        "### Classificando linhas"
      ]
    },
    {
      "cell_type": "code",
      "metadata": {
        "id": "v1CEwofMJV-D"
      },
      "source": [
        "df.orderBy('Ano').show(truncate=False)"
      ],
      "execution_count": null,
      "outputs": []
    },
    {
      "cell_type": "code",
      "metadata": {
        "id": "Zx3W4aeL5A4O"
      },
      "source": [
        "\n",
        "df.groupBy(\"Ano\").count().orderBy('count', ascending=False).show(10)"
      ],
      "execution_count": null,
      "outputs": []
    },
    {
      "cell_type": "markdown",
      "source": [
        "# **Dados para pandas**"
      ],
      "metadata": {
        "id": "Gp40t0nZwCHT"
      }
    },
    {
      "cell_type": "code",
      "source": [
        "df_pandas = df.toPandas()"
      ],
      "metadata": {
        "id": "MfjBysuKwGW_"
      },
      "execution_count": null,
      "outputs": []
    },
    {
      "cell_type": "code",
      "source": [
        "df_pandas.head()"
      ],
      "metadata": {
        "id": "nWg-bQvmwPOb"
      },
      "execution_count": null,
      "outputs": []
    },
    {
      "cell_type": "code",
      "source": [
        "df_pandas.dtypes"
      ],
      "metadata": {
        "id": "AskDpDG05tBe"
      },
      "execution_count": null,
      "outputs": []
    },
    {
      "cell_type": "code",
      "source": [
        "# Importar matplotlib.\n",
        "import matplotlib.pyplot as plt\n",
        "# Importar seaborn.\n",
        "import seaborn as sns"
      ],
      "metadata": {
        "id": "2VB9yx8uw-ZR"
      },
      "execution_count": null,
      "outputs": []
    },
    {
      "cell_type": "code",
      "source": [
        "# Histograma para aas variaveis numéricas.\n",
        "plt.hist(df_pandas.Magnitude)\n",
        "plt.xlabel('Magnitude')\n",
        "plt.ylabel('Frequência')\n",
        "plt.show()"
      ],
      "metadata": {
        "id": "L58JwCgzxBMe"
      },
      "execution_count": null,
      "outputs": []
    },
    {
      "cell_type": "code",
      "source": [
        "plt.boxplot(df_pandas.Magnitude)\n",
        "plt.show()"
      ],
      "metadata": {
        "id": "bFuRhJL9xXQf"
      },
      "execution_count": null,
      "outputs": []
    },
    {
      "cell_type": "code",
      "source": [
        "# Plotando dispersão de dados = relacionando duas variáveis numéricas.\n",
        "plt.figure(figsize = (7,4))\n",
        "plt.scatter(\n",
        "    df_pandas['Profundidade(km)'],\n",
        "    df_pandas['Magnitude'],\n",
        "    c='blue')\n",
        "\n",
        "plt.xlabel(\"Profundidade\")\n",
        "plt.ylabel(\"Magnitude\")\n",
        "plt.show()"
      ],
      "metadata": {
        "id": "g1xV2q5iyZdl"
      },
      "execution_count": null,
      "outputs": []
    },
    {
      "cell_type": "code",
      "source": [
        "# Verifcando categorias ou classes\n",
        "classes_tipos_terremotos = df_pandas['TipoTerremoto'].value_counts()\n",
        "nome_classes = ['Ke','Sm']\n",
        "quantidade_classes = [49886,114]\n",
        "fig = plt.figure(figsize =(7, 7))\n",
        "plt.pie(quantidade_classes, labels = nome_classes, autopct='%1.2f%%')\n",
        "plt.show()"
      ],
      "metadata": {
        "id": "HZbUZkNWykTY"
      },
      "execution_count": null,
      "outputs": []
    },
    {
      "cell_type": "code",
      "source": [
        "# Gráfico de barras com seaborn\n",
        "sns.countplot(x='TipoTerremoto', data=df_pandas)\n",
        "plt.show()"
      ],
      "metadata": {
        "id": "PAbOJF4AyyFL"
      },
      "execution_count": null,
      "outputs": []
    },
    {
      "cell_type": "code",
      "source": [
        "# Gráfico de barras com seaborn\n",
        "sns.countplot(x='Mês', data=df_pandas)\n",
        "plt.show()"
      ],
      "metadata": {
        "id": "dUMxRMro7Te9"
      },
      "execution_count": null,
      "outputs": []
    },
    {
      "cell_type": "code",
      "source": [
        "# Gráfico de barras com seaborn\n",
        "fig = plt.figure(figsize=(15,6))\n",
        "sns.countplot(x='Ano', data=df_pandas)\n",
        "plt.show()"
      ],
      "metadata": {
        "id": "eXZ4ordNy74I"
      },
      "execution_count": null,
      "outputs": []
    },
    {
      "cell_type": "code",
      "source": [
        "# Gráfico de barras com seaborn\n",
        "fig = plt.figure(figsize=(15,6))\n",
        "sns.countplot(x='Ano', data=df_pandas, order = df_pandas[\"Ano\"].value_counts().index)\n",
        "plt.show()"
      ],
      "metadata": {
        "id": "RmbvZ5a1zCNa"
      },
      "execution_count": null,
      "outputs": []
    },
    {
      "cell_type": "code",
      "source": [
        "# Gráfico de barras com seaborn\n",
        "sns.countplot(x='Hora_', data=df_pandas)\n",
        "plt.show()"
      ],
      "metadata": {
        "id": "Cb7u9oiqzJVC"
      },
      "execution_count": null,
      "outputs": []
    },
    {
      "cell_type": "code",
      "source": [
        "# Grafico gerado entre magnitide, profundidade e tipo do terremoto.\n",
        "sns.relplot(\n",
        "    data=df_pandas,\n",
        "    x=\"Profundidade(km)\", y=\"Magnitude\", hue=\"Ano\", palette=\"rocket_r\")\n",
        "plt.show()"
      ],
      "metadata": {
        "id": "PgppCyTVzP5F"
      },
      "execution_count": null,
      "outputs": []
    },
    {
      "cell_type": "code",
      "source": [
        "# Plotar o boxplot de uma variável em relação as classes com seaborn.\n",
        "\n",
        "plt.subplots( figsize=(8, 6))\n",
        "sns.boxplot(x='TipoTerremoto', y='Magnitude', data=df_pandas)\n",
        "plt.show()"
      ],
      "metadata": {
        "id": "j8kGOFc7zX-z"
      },
      "execution_count": null,
      "outputs": []
    },
    {
      "cell_type": "code",
      "source": [
        "# Plotar o boxplot de uma variável em relação as classes com seaborn.\n",
        "\n",
        "plt.subplots( figsize=(15, 6))\n",
        "sns.boxplot(x='Ano', y='Magnitude', data=df_pandas)\n",
        "plt.show()"
      ],
      "metadata": {
        "id": "za392yPJzhPq"
      },
      "execution_count": null,
      "outputs": []
    },
    {
      "cell_type": "markdown",
      "source": [
        "# **BASE DE DADOS 2**"
      ],
      "metadata": {
        "id": "cT8HsbMauDfE"
      }
    },
    {
      "cell_type": "code",
      "source": [
        "df2 = sc.read.csv('Carros.csv', header=True, sep=\";\",  inferSchema=True)\n",
        "df2.show(5)"
      ],
      "metadata": {
        "id": "sLrLvLyrt8HL"
      },
      "execution_count": null,
      "outputs": []
    },
    {
      "cell_type": "markdown",
      "metadata": {
        "id": "PIKigra7A34e"
      },
      "source": [
        "\n",
        "### String"
      ]
    },
    {
      "cell_type": "code",
      "metadata": {
        "id": "63QDccSjBqC4"
      },
      "source": [
        "from pyspark.sql import functions\n",
        "print(dir(functions))"
      ],
      "execution_count": null,
      "outputs": []
    },
    {
      "cell_type": "code",
      "metadata": {
        "id": "52Gh9c99BZFr"
      },
      "source": [
        "from pyspark.sql.functions import col, lower, upper, substring"
      ],
      "execution_count": null,
      "outputs": []
    },
    {
      "cell_type": "code",
      "source": [
        "df2.select(col('Carro'),lower(col('Carro')),upper(col('Carro')),substring(col('Carro'),1,4).alias(\"concatenated value\")).show(3, False)"
      ],
      "metadata": {
        "id": "M6y2_xtusqgw"
      },
      "execution_count": null,
      "outputs": []
    },
    {
      "cell_type": "code",
      "source": [
        "df2 = df2.withColumn('Carro', upper(df2.Carro)).show(5, False)"
      ],
      "metadata": {
        "id": "pWlVhCgqugEY"
      },
      "execution_count": null,
      "outputs": []
    },
    {
      "cell_type": "markdown",
      "metadata": {
        "id": "ldtA0wk9BMkT"
      },
      "source": [
        "\n",
        "### Numérico"
      ]
    },
    {
      "cell_type": "code",
      "metadata": {
        "id": "wBDDH-YpBbdk"
      },
      "source": [
        "from pyspark.sql.functions import min, max\n",
        "df2.select(min(df2.Peso), max(df2.Peso)).show()"
      ],
      "execution_count": null,
      "outputs": []
    },
    {
      "cell_type": "markdown",
      "metadata": {
        "id": "7OZElEvcGOD1"
      },
      "source": [
        "\n",
        "## SQL"
      ]
    },
    {
      "cell_type": "code",
      "metadata": {
        "id": "g2DaK9-D7QkX"
      },
      "source": [
        "\n",
        "df = sc.read.csv('Carros.csv', header=True, sep=\";\")\n",
        "# Tabela temporária\n",
        "df.createOrReplaceTempView(\"temp\")\n",
        "\n",
        "sc.sql(\"select * from temp limit 15\").show()\n",
        "\n",
        "sc.sql(\"select count(*) as total_count from temp\").show()"
      ],
      "execution_count": null,
      "outputs": []
    }
  ]
}